{
 "cells": [
  {
   "cell_type": "code",
   "execution_count": 240,
   "id": "3753c5e7-86c6-4731-b02d-70f06634af3f",
   "metadata": {},
   "outputs": [],
   "source": [
    "#Importing the necessary requirement\n",
    "import numpy as np\n",
    "import pandas as pd\n",
    "import matplotlib.pyplot as plt\n",
    "pd.plotting.register_matplotlib_converters\n",
    "import seaborn as sns\n",
    "%matplotlib inline\n",
    "import tensorflow as tf\n",
    "\n",
    "\n",
    "#importing the requirements needed for the data analysis\n",
    "from sklearn.model_selection import train_test_split\n",
    "from sklearn.metrics import mean_absolute_error, mean_squared_error, r2_score\n",
    "from sklearn.impute import SimpleImputer\n",
    "from tensorflow import keras\n",
    "from tensorflow.keras import layers\n",
    "from sklearn.preprocessing import StandardScaler, OneHotEncoder\n",
    "from sklearn.compose import make_column_transformer, make_column_selector\n",
    "from tensorflow.keras.callbacks import EarlyStopping\n",
    "from tensorflow.keras import callbacks\n",
    "from scipy.stats import ttest_ind"
   ]
  },
  {
   "cell_type": "code",
   "execution_count": 195,
   "id": "e69a4f6a-eeac-47a0-8d77-bf9549f6f590",
   "metadata": {},
   "outputs": [],
   "source": [
    "#loading the csvfile into pandas dataframe\n",
    "df = pd.read_csv('ancona_data.csv', parse_dates=['Date'])\n",
    "df_with_O3 = df[~((df['O3'].isna()) | (df['O3'] == 0))]\n",
    "df_with_O3 = df_with_O3.reset_index(drop=True)\n",
    "\n",
    "#defining the inputs and outputs\n",
    "df_with_O3_features = df_with_O3.copy()\n",
    "df_with_O3_features['Date'] = (pd.to_datetime(df_with_O3_features['Date']) - pd.Timestamp('1970-01-01')) / pd.Timedelta('1D')\n",
    "X = df_with_O3_features.copy()\n",
    "y = X.pop('O3')\n",
    "\n",
    "#cleaning the missing values\n",
    "Imputer = SimpleImputer()\n",
    "null_values = ['NO2',  'PM10', 'PM2.5']\n",
    "X[null_values] = pd.DataFrame(Imputer.fit_transform(X[null_values])) "
   ]
  },
  {
   "cell_type": "code",
   "execution_count": 196,
   "id": "9002e00c-d5b9-43bb-a609-04c8941473c6",
   "metadata": {},
   "outputs": [
    {
     "name": "stdout",
     "output_type": "stream",
     "text": [
      "<class 'pandas.core.frame.DataFrame'>\n",
      "RangeIndex: 392821 entries, 0 to 392820\n",
      "Data columns (total 18 columns):\n",
      " #   Column               Non-Null Count   Dtype  \n",
      "---  ------               --------------   -----  \n",
      " 0   Date                 392821 non-null  float64\n",
      " 1   NO2                  392821 non-null  float64\n",
      " 2   PM10                 392821 non-null  float64\n",
      " 3   PM2.5                392821 non-null  float64\n",
      " 4   Latitude             392821 non-null  float64\n",
      " 5   Longitude            392821 non-null  float64\n",
      " 6   station_name         392821 non-null  object \n",
      " 7   Wind-Speed (U)       392821 non-null  float64\n",
      " 8   Wind-Speed (V)       392821 non-null  float64\n",
      " 9   Dewpoint Temp        392821 non-null  float64\n",
      " 10  Soil Temp            392821 non-null  float64\n",
      " 11  Total Percipitation  392821 non-null  float64\n",
      " 12  Vegitation (High)    392821 non-null  float64\n",
      " 13  Vegitation (Low)     392821 non-null  float64\n",
      " 14  Temp                 392821 non-null  float64\n",
      " 15  Relative Humidity    392821 non-null  float64\n",
      " 16  code                 392821 non-null  object \n",
      " 17  id                   392821 non-null  int64  \n",
      "dtypes: float64(15), int64(1), object(2)\n",
      "memory usage: 53.9+ MB\n"
     ]
    }
   ],
   "source": [
    "X.info()"
   ]
  },
  {
   "cell_type": "code",
   "execution_count": 168,
   "id": "3f189f9c-01f5-4f82-bbb5-05ce204b033f",
   "metadata": {},
   "outputs": [
    {
     "data": {
      "text/html": [
       "<div>\n",
       "<style scoped>\n",
       "    .dataframe tbody tr th:only-of-type {\n",
       "        vertical-align: middle;\n",
       "    }\n",
       "\n",
       "    .dataframe tbody tr th {\n",
       "        vertical-align: top;\n",
       "    }\n",
       "\n",
       "    .dataframe thead th {\n",
       "        text-align: right;\n",
       "    }\n",
       "</style>\n",
       "<table border=\"1\" class=\"dataframe\">\n",
       "  <thead>\n",
       "    <tr style=\"text-align: right;\">\n",
       "      <th></th>\n",
       "      <th>Date</th>\n",
       "      <th>NO2</th>\n",
       "      <th>PM10</th>\n",
       "      <th>PM2.5</th>\n",
       "      <th>Latitude</th>\n",
       "      <th>Longitude</th>\n",
       "      <th>Wind-Speed (U)</th>\n",
       "      <th>Wind-Speed (V)</th>\n",
       "      <th>Dewpoint Temp</th>\n",
       "      <th>Soil Temp</th>\n",
       "      <th>Total Percipitation</th>\n",
       "      <th>Vegitation (High)</th>\n",
       "      <th>Vegitation (Low)</th>\n",
       "      <th>Temp</th>\n",
       "      <th>Relative Humidity</th>\n",
       "      <th>id</th>\n",
       "    </tr>\n",
       "  </thead>\n",
       "  <tbody>\n",
       "    <tr>\n",
       "      <th>count</th>\n",
       "      <td>392821.000000</td>\n",
       "      <td>392821.000000</td>\n",
       "      <td>392821.000000</td>\n",
       "      <td>392821.000000</td>\n",
       "      <td>392821.000000</td>\n",
       "      <td>392821.000000</td>\n",
       "      <td>392821.000000</td>\n",
       "      <td>392821.000000</td>\n",
       "      <td>392821.000000</td>\n",
       "      <td>392821.000000</td>\n",
       "      <td>3.928210e+05</td>\n",
       "      <td>392821.000000</td>\n",
       "      <td>392821.000000</td>\n",
       "      <td>392821.000000</td>\n",
       "      <td>392821.000000</td>\n",
       "      <td>392821.00000</td>\n",
       "    </tr>\n",
       "    <tr>\n",
       "      <th>mean</th>\n",
       "      <td>19266.873253</td>\n",
       "      <td>12.291497</td>\n",
       "      <td>18.694320</td>\n",
       "      <td>12.943337</td>\n",
       "      <td>43.568967</td>\n",
       "      <td>13.367965</td>\n",
       "      <td>-0.111920</td>\n",
       "      <td>-0.203184</td>\n",
       "      <td>50.184321</td>\n",
       "      <td>55.315780</td>\n",
       "      <td>1.646040e-03</td>\n",
       "      <td>3.059494</td>\n",
       "      <td>2.777382</td>\n",
       "      <td>55.227406</td>\n",
       "      <td>75.308758</td>\n",
       "      <td>35.24249</td>\n",
       "    </tr>\n",
       "    <tr>\n",
       "      <th>std</th>\n",
       "      <td>228.256579</td>\n",
       "      <td>8.783412</td>\n",
       "      <td>9.934027</td>\n",
       "      <td>7.408584</td>\n",
       "      <td>0.076386</td>\n",
       "      <td>0.128153</td>\n",
       "      <td>0.889658</td>\n",
       "      <td>0.956522</td>\n",
       "      <td>17.810482</td>\n",
       "      <td>18.173177</td>\n",
       "      <td>4.936355e-03</td>\n",
       "      <td>0.248082</td>\n",
       "      <td>0.147384</td>\n",
       "      <td>18.208184</td>\n",
       "      <td>18.543084</td>\n",
       "      <td>13.41493</td>\n",
       "    </tr>\n",
       "    <tr>\n",
       "      <th>min</th>\n",
       "      <td>18871.041667</td>\n",
       "      <td>0.000000</td>\n",
       "      <td>0.000000</td>\n",
       "      <td>0.000000</td>\n",
       "      <td>43.450000</td>\n",
       "      <td>13.150000</td>\n",
       "      <td>-3.877032</td>\n",
       "      <td>-3.671453</td>\n",
       "      <td>8.371775</td>\n",
       "      <td>12.047776</td>\n",
       "      <td>-6.940000e-18</td>\n",
       "      <td>2.718726</td>\n",
       "      <td>2.573985</td>\n",
       "      <td>10.109338</td>\n",
       "      <td>12.943158</td>\n",
       "      <td>22.00000</td>\n",
       "    </tr>\n",
       "    <tr>\n",
       "      <th>25%</th>\n",
       "      <td>19069.166667</td>\n",
       "      <td>6.285742</td>\n",
       "      <td>12.000000</td>\n",
       "      <td>8.000000</td>\n",
       "      <td>43.550000</td>\n",
       "      <td>13.250000</td>\n",
       "      <td>-0.735505</td>\n",
       "      <td>-0.995726</td>\n",
       "      <td>48.855748</td>\n",
       "      <td>52.019315</td>\n",
       "      <td>2.358580e-07</td>\n",
       "      <td>2.810968</td>\n",
       "      <td>2.628872</td>\n",
       "      <td>51.998541</td>\n",
       "      <td>62.301633</td>\n",
       "      <td>28.00000</td>\n",
       "    </tr>\n",
       "    <tr>\n",
       "      <th>50%</th>\n",
       "      <td>19267.166667</td>\n",
       "      <td>10.110440</td>\n",
       "      <td>17.000000</td>\n",
       "      <td>11.955444</td>\n",
       "      <td>43.599523</td>\n",
       "      <td>13.372120</td>\n",
       "      <td>-0.368686</td>\n",
       "      <td>-0.359573</td>\n",
       "      <td>56.978183</td>\n",
       "      <td>59.735240</td>\n",
       "      <td>1.283123e-05</td>\n",
       "      <td>3.057545</td>\n",
       "      <td>2.776165</td>\n",
       "      <td>60.119940</td>\n",
       "      <td>79.915413</td>\n",
       "      <td>33.00000</td>\n",
       "    </tr>\n",
       "    <tr>\n",
       "      <th>75%</th>\n",
       "      <td>19464.333333</td>\n",
       "      <td>15.626753</td>\n",
       "      <td>22.749872</td>\n",
       "      <td>15.606927</td>\n",
       "      <td>43.637500</td>\n",
       "      <td>13.450000</td>\n",
       "      <td>0.456520</td>\n",
       "      <td>0.529874</td>\n",
       "      <td>62.158225</td>\n",
       "      <td>66.947629</td>\n",
       "      <td>6.131244e-04</td>\n",
       "      <td>3.271532</td>\n",
       "      <td>2.902693</td>\n",
       "      <td>66.981119</td>\n",
       "      <td>90.887015</td>\n",
       "      <td>38.00000</td>\n",
       "    </tr>\n",
       "    <tr>\n",
       "      <th>max</th>\n",
       "      <td>19661.958333</td>\n",
       "      <td>285.000000</td>\n",
       "      <td>249.000000</td>\n",
       "      <td>200.000000</td>\n",
       "      <td>43.650000</td>\n",
       "      <td>13.550000</td>\n",
       "      <td>3.617407</td>\n",
       "      <td>4.307326</td>\n",
       "      <td>72.999793</td>\n",
       "      <td>90.073126</td>\n",
       "      <td>7.496383e-02</td>\n",
       "      <td>3.470822</td>\n",
       "      <td>3.022056</td>\n",
       "      <td>88.419472</td>\n",
       "      <td>99.996023</td>\n",
       "      <td>90.00000</td>\n",
       "    </tr>\n",
       "  </tbody>\n",
       "</table>\n",
       "</div>"
      ],
      "text/plain": [
       "                Date            NO2           PM10          PM2.5  \\\n",
       "count  392821.000000  392821.000000  392821.000000  392821.000000   \n",
       "mean    19266.873253      12.291497      18.694320      12.943337   \n",
       "std       228.256579       8.783412       9.934027       7.408584   \n",
       "min     18871.041667       0.000000       0.000000       0.000000   \n",
       "25%     19069.166667       6.285742      12.000000       8.000000   \n",
       "50%     19267.166667      10.110440      17.000000      11.955444   \n",
       "75%     19464.333333      15.626753      22.749872      15.606927   \n",
       "max     19661.958333     285.000000     249.000000     200.000000   \n",
       "\n",
       "            Latitude      Longitude  Wind-Speed (U)  Wind-Speed (V)  \\\n",
       "count  392821.000000  392821.000000   392821.000000   392821.000000   \n",
       "mean       43.568967      13.367965       -0.111920       -0.203184   \n",
       "std         0.076386       0.128153        0.889658        0.956522   \n",
       "min        43.450000      13.150000       -3.877032       -3.671453   \n",
       "25%        43.550000      13.250000       -0.735505       -0.995726   \n",
       "50%        43.599523      13.372120       -0.368686       -0.359573   \n",
       "75%        43.637500      13.450000        0.456520        0.529874   \n",
       "max        43.650000      13.550000        3.617407        4.307326   \n",
       "\n",
       "       Dewpoint Temp      Soil Temp  Total Percipitation  Vegitation (High)  \\\n",
       "count  392821.000000  392821.000000         3.928210e+05      392821.000000   \n",
       "mean       50.184321      55.315780         1.646040e-03           3.059494   \n",
       "std        17.810482      18.173177         4.936355e-03           0.248082   \n",
       "min         8.371775      12.047776        -6.940000e-18           2.718726   \n",
       "25%        48.855748      52.019315         2.358580e-07           2.810968   \n",
       "50%        56.978183      59.735240         1.283123e-05           3.057545   \n",
       "75%        62.158225      66.947629         6.131244e-04           3.271532   \n",
       "max        72.999793      90.073126         7.496383e-02           3.470822   \n",
       "\n",
       "       Vegitation (Low)           Temp  Relative Humidity            id  \n",
       "count     392821.000000  392821.000000      392821.000000  392821.00000  \n",
       "mean           2.777382      55.227406          75.308758      35.24249  \n",
       "std            0.147384      18.208184          18.543084      13.41493  \n",
       "min            2.573985      10.109338          12.943158      22.00000  \n",
       "25%            2.628872      51.998541          62.301633      28.00000  \n",
       "50%            2.776165      60.119940          79.915413      33.00000  \n",
       "75%            2.902693      66.981119          90.887015      38.00000  \n",
       "max            3.022056      88.419472          99.996023      90.00000  "
      ]
     },
     "execution_count": 168,
     "metadata": {},
     "output_type": "execute_result"
    }
   ],
   "source": [
    "X.describe()"
   ]
  },
  {
   "cell_type": "code",
   "execution_count": 169,
   "id": "0ded9dd7-0a13-4dba-b7fe-79a81e9a8cea",
   "metadata": {},
   "outputs": [
    {
     "data": {
      "text/plain": [
       "(392821, 18)"
      ]
     },
     "execution_count": 169,
     "metadata": {},
     "output_type": "execute_result"
    }
   ],
   "source": [
    "X.shape"
   ]
  },
  {
   "cell_type": "code",
   "execution_count": 170,
   "id": "da9ab216-5ea9-4dda-891b-0881177f5c49",
   "metadata": {},
   "outputs": [
    {
     "data": {
      "text/plain": [
       "0.99999696"
      ]
     },
     "execution_count": 170,
     "metadata": {},
     "output_type": "execute_result"
    }
   ],
   "source": [
    "y.min()"
   ]
  },
  {
   "cell_type": "code",
   "execution_count": 171,
   "id": "424b604e-d36d-4f70-a7fe-68193f9ab086",
   "metadata": {},
   "outputs": [
    {
     "data": {
      "text/plain": [
       "0         53.000000\n",
       "1         49.232338\n",
       "2         51.336113\n",
       "3         39.351303\n",
       "4         57.373196\n",
       "            ...    \n",
       "392816    47.104100\n",
       "392817    48.762394\n",
       "392818    24.000000\n",
       "392819    57.000000\n",
       "392820    50.228462\n",
       "Name: O3, Length: 392821, dtype: float64"
      ]
     },
     "execution_count": 171,
     "metadata": {},
     "output_type": "execute_result"
    }
   ],
   "source": [
    "y"
   ]
  },
  {
   "cell_type": "code",
   "execution_count": 172,
   "id": "3cc25c0a-9472-44a3-ad51-fb92edf24218",
   "metadata": {},
   "outputs": [
    {
     "name": "stdout",
     "output_type": "stream",
     "text": [
      "Input shape: [58]\n"
     ]
    }
   ],
   "source": [
    "# encoding the categorical data and standardizing the data\n",
    "features_num = [cname for cname in X.columns if X[cname].dtype in ['int64', 'float64']]\n",
    "features_cat = [cname for cname in X.columns if X[cname].dtype == \"object\"]\n",
    "\n",
    "preprocessor = make_column_transformer(\n",
    "    (StandardScaler(), features_num),\n",
    "    (OneHotEncoder(), features_cat),\n",
    ")\n",
    "\n",
    "preprocessor = make_column_transformer(\n",
    "    (StandardScaler(), features_num),\n",
    "    (OneHotEncoder(), features_cat),\n",
    ")\n",
    "\n",
    "y = np.log(y)\n",
    "\n",
    "#spliting the dataset into a trainig data and a validation data\n",
    "train, test, train_y, test_y = train_test_split(X, y, random_state=0)\n",
    "\n",
    "train = preprocessor.fit_transform(train)\n",
    "test = preprocessor.transform(test)\n",
    "\n",
    "\n",
    "input_shape = [train.shape[1]]\n",
    "print(\"Input shape: {}\".format(input_shape))"
   ]
  },
  {
   "cell_type": "code",
   "execution_count": 173,
   "id": "d9d38a34-e9b9-4dde-88ef-7f17f3473492",
   "metadata": {},
   "outputs": [
    {
     "data": {
      "text/plain": [
       "0         3.970292\n",
       "1         3.896551\n",
       "2         3.938394\n",
       "3         3.672529\n",
       "4         4.049577\n",
       "            ...   \n",
       "392816    3.852360\n",
       "392817    3.886959\n",
       "392818    3.178054\n",
       "392819    4.043051\n",
       "392820    3.916582\n",
       "Name: O3, Length: 392821, dtype: float64"
      ]
     },
     "execution_count": 173,
     "metadata": {},
     "output_type": "execute_result"
    }
   ],
   "source": [
    "y "
   ]
  },
  {
   "cell_type": "code",
   "execution_count": 174,
   "id": "4ef1c92a-8e1e-4b01-9ef4-3280357b8755",
   "metadata": {},
   "outputs": [
    {
     "data": {
      "text/plain": [
       "0         53.000000\n",
       "1         49.232338\n",
       "2         51.336113\n",
       "3         39.351303\n",
       "4         57.373196\n",
       "            ...    \n",
       "392816    47.104100\n",
       "392817    48.762394\n",
       "392818    24.000000\n",
       "392819    57.000000\n",
       "392820    50.228462\n",
       "Name: O3, Length: 392821, dtype: float64"
      ]
     },
     "execution_count": 174,
     "metadata": {},
     "output_type": "execute_result"
    }
   ],
   "source": [
    "y_adjusted = np.exp(y)\n",
    "y_adjusted"
   ]
  },
  {
   "cell_type": "code",
   "execution_count": 175,
   "id": "4015682a-d9d1-435d-86d2-9c5d3bcd81f7",
   "metadata": {},
   "outputs": [
    {
     "data": {
      "text/html": [
       "<div>\n",
       "<style scoped>\n",
       "    .dataframe tbody tr th:only-of-type {\n",
       "        vertical-align: middle;\n",
       "    }\n",
       "\n",
       "    .dataframe tbody tr th {\n",
       "        vertical-align: top;\n",
       "    }\n",
       "\n",
       "    .dataframe thead th {\n",
       "        text-align: right;\n",
       "    }\n",
       "</style>\n",
       "<table border=\"1\" class=\"dataframe\">\n",
       "  <thead>\n",
       "    <tr style=\"text-align: right;\">\n",
       "      <th></th>\n",
       "      <th>0</th>\n",
       "      <th>1</th>\n",
       "      <th>2</th>\n",
       "      <th>3</th>\n",
       "      <th>4</th>\n",
       "      <th>5</th>\n",
       "      <th>6</th>\n",
       "      <th>7</th>\n",
       "      <th>8</th>\n",
       "      <th>9</th>\n",
       "      <th>...</th>\n",
       "      <th>48</th>\n",
       "      <th>49</th>\n",
       "      <th>50</th>\n",
       "      <th>51</th>\n",
       "      <th>52</th>\n",
       "      <th>53</th>\n",
       "      <th>54</th>\n",
       "      <th>55</th>\n",
       "      <th>56</th>\n",
       "      <th>57</th>\n",
       "    </tr>\n",
       "  </thead>\n",
       "  <tbody>\n",
       "    <tr>\n",
       "      <th>count</th>\n",
       "      <td>5.000000</td>\n",
       "      <td>5.000000</td>\n",
       "      <td>5.000000</td>\n",
       "      <td>5.000000</td>\n",
       "      <td>5.000000</td>\n",
       "      <td>5.000000</td>\n",
       "      <td>5.000000</td>\n",
       "      <td>5.000000</td>\n",
       "      <td>5.000000</td>\n",
       "      <td>5.000000</td>\n",
       "      <td>...</td>\n",
       "      <td>5.000000</td>\n",
       "      <td>5.0</td>\n",
       "      <td>5.0</td>\n",
       "      <td>5.0</td>\n",
       "      <td>5.0</td>\n",
       "      <td>5.0</td>\n",
       "      <td>5.0</td>\n",
       "      <td>5.0</td>\n",
       "      <td>5.000000</td>\n",
       "      <td>5.0</td>\n",
       "    </tr>\n",
       "    <tr>\n",
       "      <th>mean</th>\n",
       "      <td>-0.545407</td>\n",
       "      <td>-0.051401</td>\n",
       "      <td>0.866881</td>\n",
       "      <td>0.927258</td>\n",
       "      <td>-0.316720</td>\n",
       "      <td>-0.541767</td>\n",
       "      <td>0.208377</td>\n",
       "      <td>0.329117</td>\n",
       "      <td>0.063372</td>\n",
       "      <td>0.188918</td>\n",
       "      <td>...</td>\n",
       "      <td>0.200000</td>\n",
       "      <td>0.0</td>\n",
       "      <td>0.0</td>\n",
       "      <td>0.0</td>\n",
       "      <td>0.0</td>\n",
       "      <td>0.0</td>\n",
       "      <td>0.0</td>\n",
       "      <td>0.0</td>\n",
       "      <td>0.200000</td>\n",
       "      <td>0.0</td>\n",
       "    </tr>\n",
       "    <tr>\n",
       "      <th>std</th>\n",
       "      <td>1.349630</td>\n",
       "      <td>1.056437</td>\n",
       "      <td>1.212065</td>\n",
       "      <td>1.787830</td>\n",
       "      <td>1.230264</td>\n",
       "      <td>0.765362</td>\n",
       "      <td>1.045263</td>\n",
       "      <td>0.635438</td>\n",
       "      <td>1.065735</td>\n",
       "      <td>0.975803</td>\n",
       "      <td>...</td>\n",
       "      <td>0.447214</td>\n",
       "      <td>0.0</td>\n",
       "      <td>0.0</td>\n",
       "      <td>0.0</td>\n",
       "      <td>0.0</td>\n",
       "      <td>0.0</td>\n",
       "      <td>0.0</td>\n",
       "      <td>0.0</td>\n",
       "      <td>0.447214</td>\n",
       "      <td>0.0</td>\n",
       "    </tr>\n",
       "    <tr>\n",
       "      <th>min</th>\n",
       "      <td>-1.699022</td>\n",
       "      <td>-1.052467</td>\n",
       "      <td>-0.674353</td>\n",
       "      <td>-0.700908</td>\n",
       "      <td>-1.557526</td>\n",
       "      <td>-1.699509</td>\n",
       "      <td>-1.168425</td>\n",
       "      <td>-0.631618</td>\n",
       "      <td>-1.826512</td>\n",
       "      <td>-1.461203</td>\n",
       "      <td>...</td>\n",
       "      <td>0.000000</td>\n",
       "      <td>0.0</td>\n",
       "      <td>0.0</td>\n",
       "      <td>0.0</td>\n",
       "      <td>0.0</td>\n",
       "      <td>0.0</td>\n",
       "      <td>0.0</td>\n",
       "      <td>0.0</td>\n",
       "      <td>0.000000</td>\n",
       "      <td>0.0</td>\n",
       "    </tr>\n",
       "    <tr>\n",
       "      <th>25%</th>\n",
       "      <td>-1.422335</td>\n",
       "      <td>-0.601185</td>\n",
       "      <td>0.311291</td>\n",
       "      <td>-0.000363</td>\n",
       "      <td>-1.557526</td>\n",
       "      <td>-0.919945</td>\n",
       "      <td>-0.259990</td>\n",
       "      <td>0.009068</td>\n",
       "      <td>0.310493</td>\n",
       "      <td>0.179683</td>\n",
       "      <td>...</td>\n",
       "      <td>0.000000</td>\n",
       "      <td>0.0</td>\n",
       "      <td>0.0</td>\n",
       "      <td>0.0</td>\n",
       "      <td>0.0</td>\n",
       "      <td>0.0</td>\n",
       "      <td>0.0</td>\n",
       "      <td>0.0</td>\n",
       "      <td>0.000000</td>\n",
       "      <td>0.0</td>\n",
       "    </tr>\n",
       "    <tr>\n",
       "      <th>50%</th>\n",
       "      <td>-1.382548</td>\n",
       "      <td>-0.280952</td>\n",
       "      <td>0.842457</td>\n",
       "      <td>0.272968</td>\n",
       "      <td>-0.248399</td>\n",
       "      <td>-0.140381</td>\n",
       "      <td>0.141817</td>\n",
       "      <td>0.589069</td>\n",
       "      <td>0.557447</td>\n",
       "      <td>0.504712</td>\n",
       "      <td>...</td>\n",
       "      <td>0.000000</td>\n",
       "      <td>0.0</td>\n",
       "      <td>0.0</td>\n",
       "      <td>0.0</td>\n",
       "      <td>0.0</td>\n",
       "      <td>0.0</td>\n",
       "      <td>0.0</td>\n",
       "      <td>0.0</td>\n",
       "      <td>0.000000</td>\n",
       "      <td>0.0</td>\n",
       "    </tr>\n",
       "    <tr>\n",
       "      <th>75%</th>\n",
       "      <td>0.456249</td>\n",
       "      <td>-0.033620</td>\n",
       "      <td>1.241253</td>\n",
       "      <td>1.173337</td>\n",
       "      <td>0.719124</td>\n",
       "      <td>-0.140381</td>\n",
       "      <td>0.704043</td>\n",
       "      <td>0.816482</td>\n",
       "      <td>0.580364</td>\n",
       "      <td>0.656398</td>\n",
       "      <td>...</td>\n",
       "      <td>0.000000</td>\n",
       "      <td>0.0</td>\n",
       "      <td>0.0</td>\n",
       "      <td>0.0</td>\n",
       "      <td>0.0</td>\n",
       "      <td>0.0</td>\n",
       "      <td>0.0</td>\n",
       "      <td>0.0</td>\n",
       "      <td>0.000000</td>\n",
       "      <td>0.0</td>\n",
       "    </tr>\n",
       "    <tr>\n",
       "      <th>max</th>\n",
       "      <td>1.320620</td>\n",
       "      <td>1.711219</td>\n",
       "      <td>2.613757</td>\n",
       "      <td>3.891256</td>\n",
       "      <td>1.060728</td>\n",
       "      <td>0.191381</td>\n",
       "      <td>1.624439</td>\n",
       "      <td>0.862582</td>\n",
       "      <td>0.695068</td>\n",
       "      <td>1.065000</td>\n",
       "      <td>...</td>\n",
       "      <td>1.000000</td>\n",
       "      <td>0.0</td>\n",
       "      <td>0.0</td>\n",
       "      <td>0.0</td>\n",
       "      <td>0.0</td>\n",
       "      <td>0.0</td>\n",
       "      <td>0.0</td>\n",
       "      <td>0.0</td>\n",
       "      <td>1.000000</td>\n",
       "      <td>0.0</td>\n",
       "    </tr>\n",
       "  </tbody>\n",
       "</table>\n",
       "<p>8 rows × 58 columns</p>\n",
       "</div>"
      ],
      "text/plain": [
       "             0         1         2         3         4         5         6   \\\n",
       "count  5.000000  5.000000  5.000000  5.000000  5.000000  5.000000  5.000000   \n",
       "mean  -0.545407 -0.051401  0.866881  0.927258 -0.316720 -0.541767  0.208377   \n",
       "std    1.349630  1.056437  1.212065  1.787830  1.230264  0.765362  1.045263   \n",
       "min   -1.699022 -1.052467 -0.674353 -0.700908 -1.557526 -1.699509 -1.168425   \n",
       "25%   -1.422335 -0.601185  0.311291 -0.000363 -1.557526 -0.919945 -0.259990   \n",
       "50%   -1.382548 -0.280952  0.842457  0.272968 -0.248399 -0.140381  0.141817   \n",
       "75%    0.456249 -0.033620  1.241253  1.173337  0.719124 -0.140381  0.704043   \n",
       "max    1.320620  1.711219  2.613757  3.891256  1.060728  0.191381  1.624439   \n",
       "\n",
       "             7         8         9   ...        48   49   50   51   52   53  \\\n",
       "count  5.000000  5.000000  5.000000  ...  5.000000  5.0  5.0  5.0  5.0  5.0   \n",
       "mean   0.329117  0.063372  0.188918  ...  0.200000  0.0  0.0  0.0  0.0  0.0   \n",
       "std    0.635438  1.065735  0.975803  ...  0.447214  0.0  0.0  0.0  0.0  0.0   \n",
       "min   -0.631618 -1.826512 -1.461203  ...  0.000000  0.0  0.0  0.0  0.0  0.0   \n",
       "25%    0.009068  0.310493  0.179683  ...  0.000000  0.0  0.0  0.0  0.0  0.0   \n",
       "50%    0.589069  0.557447  0.504712  ...  0.000000  0.0  0.0  0.0  0.0  0.0   \n",
       "75%    0.816482  0.580364  0.656398  ...  0.000000  0.0  0.0  0.0  0.0  0.0   \n",
       "max    0.862582  0.695068  1.065000  ...  1.000000  0.0  0.0  0.0  0.0  0.0   \n",
       "\n",
       "        54   55        56   57  \n",
       "count  5.0  5.0  5.000000  5.0  \n",
       "mean   0.0  0.0  0.200000  0.0  \n",
       "std    0.0  0.0  0.447214  0.0  \n",
       "min    0.0  0.0  0.000000  0.0  \n",
       "25%    0.0  0.0  0.000000  0.0  \n",
       "50%    0.0  0.0  0.000000  0.0  \n",
       "75%    0.0  0.0  0.000000  0.0  \n",
       "max    0.0  0.0  1.000000  0.0  \n",
       "\n",
       "[8 rows x 58 columns]"
      ]
     },
     "execution_count": 175,
     "metadata": {},
     "output_type": "execute_result"
    }
   ],
   "source": [
    "train_exp = pd.DataFrame(train[:10,:]).head()\n",
    "train_exp.describe()"
   ]
  },
  {
   "cell_type": "code",
   "execution_count": 70,
   "id": "65f66b0e-453a-488d-877f-2ca22e486462",
   "metadata": {},
   "outputs": [
    {
     "data": {
      "text/plain": [
       "(294615, 58)"
      ]
     },
     "execution_count": 70,
     "metadata": {},
     "output_type": "execute_result"
    }
   ],
   "source": [
    "train.shape"
   ]
  },
  {
   "cell_type": "code",
   "execution_count": 176,
   "id": "fe205453-6345-4e8e-8fab-ac159c6724c8",
   "metadata": {},
   "outputs": [
    {
     "data": {
      "text/plain": [
       "(98206, 58)"
      ]
     },
     "execution_count": 176,
     "metadata": {},
     "output_type": "execute_result"
    }
   ],
   "source": [
    "test.shape"
   ]
  },
  {
   "cell_type": "code",
   "execution_count": 188,
   "id": "0fee3402-37f1-4d6c-bf10-799b7e68982b",
   "metadata": {},
   "outputs": [],
   "source": [
    "#building the model\n",
    "# Create a network \n",
    "model = keras.Sequential([\n",
    "    # input layer\n",
    "    layers.Dense(units=512, activation='relu', input_shape=input_shape),\n",
    "    #hidden layers\n",
    "    layers.Dense(units=512, activation='relu'),\n",
    "    layers.Dense(units=128, activation='relu'),\n",
    "    #output layers\n",
    "    layers.Dense(units=1),\n",
    "])\n",
    "\n",
    "#defining stochastic gradient descent optimizer and loss function\n",
    "model.compile(\n",
    "    optimizer=\"adam\",\n",
    "    loss=\"mae\",\n",
    ")\n",
    "\n",
    "#add a early stopping rate callback to prevent overfitting and underfitting\n",
    "early_stopping = EarlyStopping(\n",
    "    min_delta=0.001, \n",
    "    patience=5,\n",
    "    restore_best_weights=True,\n",
    ")"
   ]
  },
  {
   "cell_type": "code",
   "execution_count": 189,
   "id": "190b551b-d79c-4f57-a29b-3262ee139d3d",
   "metadata": {},
   "outputs": [
    {
     "data": {
      "text/plain": [
       "<keras.src.engine.sequential.Sequential at 0x1dfa78f4bd0>"
      ]
     },
     "execution_count": 189,
     "metadata": {},
     "output_type": "execute_result"
    }
   ],
   "source": [
    "model"
   ]
  },
  {
   "cell_type": "code",
   "execution_count": 190,
   "id": "28804336-a3c1-414d-8d4c-2773d5035ded",
   "metadata": {},
   "outputs": [
    {
     "name": "stdout",
     "output_type": "stream",
     "text": [
      "Epoch 1/500\n",
      "59/59 [==============================] - 54s 861ms/step - loss: 0.7154 - val_loss: 0.3538\n",
      "Epoch 2/500\n",
      "59/59 [==============================] - 48s 818ms/step - loss: 0.2927 - val_loss: 0.2458\n",
      "Epoch 3/500\n",
      "59/59 [==============================] - 49s 828ms/step - loss: 0.2272 - val_loss: 0.2162\n",
      "Epoch 4/500\n",
      "59/59 [==============================] - 46s 787ms/step - loss: 0.2129 - val_loss: 0.2114\n",
      "Epoch 5/500\n",
      "59/59 [==============================] - 44s 747ms/step - loss: 0.2079 - val_loss: 0.2040\n",
      "Epoch 6/500\n",
      "59/59 [==============================] - 44s 746ms/step - loss: 0.2020 - val_loss: 0.2000\n",
      "Epoch 7/500\n",
      "59/59 [==============================] - 44s 748ms/step - loss: 0.2020 - val_loss: 0.2046\n",
      "Epoch 8/500\n",
      "59/59 [==============================] - 45s 767ms/step - loss: 0.1972 - val_loss: 0.1962\n",
      "Epoch 9/500\n",
      "59/59 [==============================] - 44s 739ms/step - loss: 0.1940 - val_loss: 0.1953\n",
      "Epoch 10/500\n",
      "59/59 [==============================] - 43s 737ms/step - loss: 0.1912 - val_loss: 0.1892\n",
      "Epoch 11/500\n",
      "59/59 [==============================] - 44s 740ms/step - loss: 0.1899 - val_loss: 0.1887\n",
      "Epoch 12/500\n",
      "59/59 [==============================] - 43s 734ms/step - loss: 0.1859 - val_loss: 0.1882\n",
      "Epoch 13/500\n",
      "59/59 [==============================] - 44s 754ms/step - loss: 0.1857 - val_loss: 0.1822\n",
      "Epoch 14/500\n",
      "59/59 [==============================] - 44s 740ms/step - loss: 0.1817 - val_loss: 0.1815\n",
      "Epoch 15/500\n",
      "59/59 [==============================] - 43s 737ms/step - loss: 0.1798 - val_loss: 0.1936\n",
      "Epoch 16/500\n",
      "59/59 [==============================] - 48s 818ms/step - loss: 0.1794 - val_loss: 0.1796\n",
      "Epoch 17/500\n",
      "59/59 [==============================] - 45s 765ms/step - loss: 0.1757 - val_loss: 0.1766\n",
      "Epoch 18/500\n",
      "59/59 [==============================] - 44s 752ms/step - loss: 0.1764 - val_loss: 0.1728\n",
      "Epoch 19/500\n",
      "59/59 [==============================] - 42s 721ms/step - loss: 0.1716 - val_loss: 0.1765\n",
      "Epoch 20/500\n",
      "59/59 [==============================] - 44s 747ms/step - loss: 0.1737 - val_loss: 0.1713\n",
      "Epoch 21/500\n",
      "59/59 [==============================] - 44s 745ms/step - loss: 0.1700 - val_loss: 0.1699\n",
      "Epoch 22/500\n",
      "59/59 [==============================] - 47s 794ms/step - loss: 0.1661 - val_loss: 0.1695\n",
      "Epoch 23/500\n",
      "59/59 [==============================] - 48s 810ms/step - loss: 0.1704 - val_loss: 0.1699\n",
      "Epoch 24/500\n",
      "59/59 [==============================] - 45s 760ms/step - loss: 0.1677 - val_loss: 0.1692\n",
      "Epoch 25/500\n",
      "59/59 [==============================] - 42s 713ms/step - loss: 0.1646 - val_loss: 0.1731\n",
      "Epoch 26/500\n",
      "59/59 [==============================] - 43s 738ms/step - loss: 0.1639 - val_loss: 0.1692\n"
     ]
    }
   ],
   "source": [
    "#training the model\n",
    "history = model.fit(\n",
    "    train, train_y, \n",
    "    validation_data=(test, test_y), \n",
    "    batch_size=5000, \n",
    "    epochs=500, \n",
    "    callbacks=[early_stopping])"
   ]
  },
  {
   "cell_type": "code",
   "execution_count": 191,
   "id": "b527fa51-96d1-4c97-89dd-af4a24f811d4",
   "metadata": {},
   "outputs": [
    {
     "name": "stdout",
     "output_type": "stream",
     "text": [
      "Minimum Validation Loss: 0.1692\n"
     ]
    },
    {
     "data": {
      "image/png": "[encoded data removed]",
      "text/plain": [
       "<Figure size 640x480 with 1 Axes>"
      ]
     },
     "metadata": {},
     "output_type": "display_data"
    }
   ],
   "source": [
    "# plotting the learning curves\n",
    "history_df = pd.DataFrame(history.history)\n",
    "history_df.loc[:, ['loss', 'val_loss']].plot()\n",
    "print(\"Minimum Validation Loss: {:0.4f}\".format(history_df['val_loss'].min()));\n",
    "plt.title('Traning MAE Loss')\n",
    "plt.xlabel('Batches Seen')\n",
    "plt.ylabel('MAE score')\n",
    "fig = plt.gcf()\n",
    "fig.savefig('Traning MAE Loss')\n",
    "plt.show()"
   ]
  },
  {
   "cell_type": "code",
   "execution_count": 192,
   "id": "c6dfa77e-0846-4f02-bc8e-0deab2ca4ec2",
   "metadata": {},
   "outputs": [
    {
     "name": "stdout",
     "output_type": "stream",
     "text": [
      "Model: \"sequential_13\"\n",
      "_________________________________________________________________\n",
      " Layer (type)                Output Shape              Param #   \n",
      "=================================================================\n",
      " dense_50 (Dense)            (None, 512)               30208     \n",
      "                                                                 \n",
      " dense_51 (Dense)            (None, 512)               262656    \n",
      "                                                                 \n",
      " dense_52 (Dense)            (None, 128)               65664     \n",
      "                                                                 \n",
      " dense_53 (Dense)            (None, 1)                 129       \n",
      "                                                                 \n",
      "=================================================================\n",
      "Total params: 358657 (1.37 MB)\n",
      "Trainable params: 358657 (1.37 MB)\n",
      "Non-trainable params: 0 (0.00 Byte)\n",
      "_________________________________________________________________\n"
     ]
    }
   ],
   "source": [
    "model.summary()"
   ]
  },
  {
   "cell_type": "code",
   "execution_count": 193,
   "id": "fa31ed43-b67c-443e-b328-5428551e8cb3",
   "metadata": {},
   "outputs": [
    {
     "data": {
      "text/plain": [
       "<tf.Variable 'learning_rate:0' shape=() dtype=float32, numpy=0.001>"
      ]
     },
     "execution_count": 193,
     "metadata": {},
     "output_type": "execute_result"
    }
   ],
   "source": [
    "model.optimizer.learning_rate"
   ]
  },
  {
   "cell_type": "code",
   "execution_count": 194,
   "id": "e28034d1-0ced-4a81-94f4-4687e04285af",
   "metadata": {},
   "outputs": [],
   "source": [
    "Weights_bias = model.weights"
   ]
  },
  {
   "cell_type": "code",
   "execution_count": 199,
   "id": "8de82614-3991-47e4-adb7-e7160c12c4f9",
   "metadata": {},
   "outputs": [
    {
     "name": "stdout",
     "output_type": "stream",
     "text": [
      "3069/3069 [==============================] - 110s 35ms/step\n"
     ]
    }
   ],
   "source": [
    "result = model.predict(test)"
   ]
  },
  {
   "cell_type": "code",
   "execution_count": 268,
   "id": "60cba65f-a5a3-4085-8397-ef25a3683f20",
   "metadata": {},
   "outputs": [
    {
     "name": "stdout",
     "output_type": "stream",
     "text": [
      "standardize result: [[4.2655067]\n",
      " [4.249335 ]\n",
      " [3.2661831]\n",
      " ...\n",
      " [3.9375892]\n",
      " [2.7810383]\n",
      " [4.0290213]]\n",
      "Predicted o3: 0        71.200989\n",
      "1        70.058792\n",
      "2        26.211103\n",
      "3        59.976490\n",
      "4        59.376331\n",
      "           ...    \n",
      "98201    91.574318\n",
      "98202    42.608406\n",
      "98203    51.294788\n",
      "98204    16.135765\n",
      "98205    56.205875\n",
      "Name: predicted O3, Length: 98206, dtype: float32\n"
     ]
    }
   ],
   "source": [
    "print('standardize result:', result)\n",
    "result_adjusted = np.exp(result)\n",
    "result_adjusted_list = tf.reshape(result_adjusted, [98206,])\n",
    "result_adjusted_list = result_adjusted_list.numpy()\n",
    "result_adjusted_list = pd.Series(result_adjusted_list, name='predicted O3')\n",
    "print('Predicted o3:', result_adjusted_list)"
   ]
  },
  {
   "cell_type": "code",
   "execution_count": 269,
   "id": "83a9e5b7-d97d-4064-94cc-8d233c9b3957",
   "metadata": {},
   "outputs": [
    {
     "name": "stdout",
     "output_type": "stream",
     "text": [
      "standardize actual: 116933    4.218762\n",
      "366776    4.531529\n",
      "150039    3.784190\n",
      "314138    3.943737\n",
      "326457    4.406098\n",
      "            ...   \n",
      "158048    4.499810\n",
      "156562    3.555348\n",
      "193380    4.185332\n",
      "234558    2.946317\n",
      "128533    3.982373\n",
      "Name: O3, Length: 98206, dtype: float64\n",
      "\n",
      "O3 actual: 0        67.949295\n",
      "1        92.900480\n",
      "2        44.000000\n",
      "3        51.611090\n",
      "4        81.949040\n",
      "           ...    \n",
      "98201    90.000000\n",
      "98202    35.000000\n",
      "98203    65.715294\n",
      "98204    19.035725\n",
      "98205    53.644184\n",
      "Name: O3, Length: 98206, dtype: float64\n"
     ]
    }
   ],
   "source": [
    "print('standardize actual:', test_y)\n",
    "test_y_adjusted = np.exp(test_y)\n",
    "test_y_adjusted = test_y_adjusted.reset_index(drop=True)\n",
    "print('\\nO3 actual:', test_y_adjusted)"
   ]
  },
  {
   "cell_type": "code",
   "execution_count": 270,
   "id": "a254b07f-0099-4841-af79-2dad271d1113",
   "metadata": {},
   "outputs": [
    {
     "name": "stdout",
     "output_type": "stream",
     "text": [
      "T-statistic: 8.694095943248874, p-value: 3.522205699287786e-18\n",
      "R-Squared (R²): 0.8413604553589491\n",
      "Root Mean Squared Error (RMSE): 10.339864650174375\n"
     ]
    }
   ],
   "source": [
    "# statistical significance\n",
    "t_stat, p_value = ttest_ind(test_y_adjusted, result_adjusted_list)\n",
    "print(f'T-statistic: {t_stat}, p-value: {p_value}')\n",
    "\n",
    "\n",
    "# Calculating R²\n",
    "r2 = r2_score(test_y_adjusted, result_adjusted_list)\n",
    "print('R-Squared (R²):', r2)\n",
    "\n",
    "# Calculating RMSE\n",
    "rmse = np.sqrt(mean_squared_error(test_y_adjusted, result_adjusted_list))\n",
    "print('Root Mean Squared Error (RMSE):', rmse)"
   ]
  },
  {
   "cell_type": "code",
   "execution_count": 275,
   "id": "60b76b41-22e1-4fd7-ad9c-e16ca74f849b",
   "metadata": {},
   "outputs": [
    {
     "data": {
      "image/png": "[encoded data removed]",
      "text/plain": [
       "<Figure size 640x480 with 1 Axes>"
      ]
     },
     "metadata": {},
     "output_type": "display_data"
    }
   ],
   "source": [
    "sns.regplot(x=test_y_adjusted, y=result_adjusted_list )\n",
    "plt.title('Artifical Neural Network Predicted vs Actual')\n",
    "fig3 = plt.gcf()\n",
    "fig3.savefig('ANN_pred_act.png')\n",
    "plt.show()"
   ]
  },
  {
   "cell_type": "code",
   "execution_count": 279,
   "id": "01487e83-087c-4412-8671-f8432a43a190",
   "metadata": {},
   "outputs": [],
   "source": [
    "output = pd.concat([test_y_adjusted, result_adjusted_list], axis=1)\n",
    "output.to_csv('ANN.pred.csv')"
   ]
  }
 ],
 "metadata": {
  "kernelspec": {
   "display_name": "Python 3 (ipykernel)",
   "language": "python",
   "name": "python3"
  },
  "language_info": {
   "codemirror_mode": {
    "name": "ipython",
    "version": 3
   },
   "file_extension": ".py",
   "mimetype": "text/x-python",
   "name": "python",
   "nbconvert_exporter": "python",
   "pygments_lexer": "ipython3",
   "version": "3.11.7"
  }
 },
 "nbformat": 4,
 "nbformat_minor": 5
}
